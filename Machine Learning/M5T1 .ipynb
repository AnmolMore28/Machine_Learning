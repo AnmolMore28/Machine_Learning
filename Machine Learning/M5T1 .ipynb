{
 "cells": [
  {
   "cell_type": "code",
   "execution_count": 2,
   "metadata": {
    "colab": {},
    "colab_type": "code",
    "id": "Afczo2kvlvLs"
   },
   "outputs": [],
   "source": [
    "import seaborn as sns\n",
    "import numpy as np\n",
    "import matplotlib.pyplot as plt\n",
    "import pandas as pd\n",
    "import warnings\n",
    "warnings.simplefilter('ignore')\n",
    "plt.style.use('dark_background')"
   ]
  },
  {
   "cell_type": "code",
   "execution_count": 3,
   "metadata": {
    "colab": {
     "base_uri": "https://localhost:8080/",
     "height": 326
    },
    "colab_type": "code",
    "executionInfo": {
     "elapsed": 19148,
     "status": "ok",
     "timestamp": 1568371062440,
     "user": {
      "displayName": "Sharoon Saxena",
      "photoUrl": "https://lh3.googleusercontent.com/a-/AAuE7mA06b2KEfgpAIC1tQCip2ka2KqXrCY2GfWW9Fww=s64",
      "userId": "01167841530696023488"
     },
     "user_tz": -330
    },
    "id": "ERif6C_Tofrf",
    "outputId": "0a9b4ab6-0ca2-4da3-f2fa-351d9bddb5b5"
   },
   "outputs": [
    {
     "data": {
      "text/html": [
       "<div>\n",
       "<style scoped>\n",
       "    .dataframe tbody tr th:only-of-type {\n",
       "        vertical-align: middle;\n",
       "    }\n",
       "\n",
       "    .dataframe tbody tr th {\n",
       "        vertical-align: top;\n",
       "    }\n",
       "\n",
       "    .dataframe thead th {\n",
       "        text-align: right;\n",
       "    }\n",
       "</style>\n",
       "<table border=\"1\" class=\"dataframe\">\n",
       "  <thead>\n",
       "    <tr style=\"text-align: right;\">\n",
       "      <th></th>\n",
       "      <th>Sale_Price</th>\n",
       "      <th>No of Bedrooms</th>\n",
       "      <th>No of Bathrooms</th>\n",
       "      <th>Flat Area (in Sqft)</th>\n",
       "      <th>Lot Area (in Sqft)</th>\n",
       "      <th>No of Floors</th>\n",
       "      <th>No of Times Visited</th>\n",
       "      <th>Overall Grade</th>\n",
       "      <th>Area of the House from Basement (in Sqft)</th>\n",
       "      <th>Basement Area (in Sqft)</th>\n",
       "      <th>...</th>\n",
       "      <th>Waterfront_View_Yes</th>\n",
       "      <th>Zipcode_Group_Zipcode_Group_1</th>\n",
       "      <th>Zipcode_Group_Zipcode_Group_2</th>\n",
       "      <th>Zipcode_Group_Zipcode_Group_3</th>\n",
       "      <th>Zipcode_Group_Zipcode_Group_4</th>\n",
       "      <th>Zipcode_Group_Zipcode_Group_5</th>\n",
       "      <th>Zipcode_Group_Zipcode_Group_6</th>\n",
       "      <th>Zipcode_Group_Zipcode_Group_7</th>\n",
       "      <th>Zipcode_Group_Zipcode_Group_8</th>\n",
       "      <th>Zipcode_Group_Zipcode_Group_9</th>\n",
       "    </tr>\n",
       "  </thead>\n",
       "  <tbody>\n",
       "    <tr>\n",
       "      <th>0</th>\n",
       "      <td>221900.0</td>\n",
       "      <td>3</td>\n",
       "      <td>1.00</td>\n",
       "      <td>1180.0</td>\n",
       "      <td>5650.0</td>\n",
       "      <td>1.0</td>\n",
       "      <td>0</td>\n",
       "      <td>7</td>\n",
       "      <td>1180.0</td>\n",
       "      <td>0</td>\n",
       "      <td>...</td>\n",
       "      <td>0</td>\n",
       "      <td>0</td>\n",
       "      <td>0</td>\n",
       "      <td>0</td>\n",
       "      <td>0</td>\n",
       "      <td>0</td>\n",
       "      <td>0</td>\n",
       "      <td>0</td>\n",
       "      <td>0</td>\n",
       "      <td>0</td>\n",
       "    </tr>\n",
       "    <tr>\n",
       "      <th>1</th>\n",
       "      <td>538000.0</td>\n",
       "      <td>3</td>\n",
       "      <td>2.25</td>\n",
       "      <td>2570.0</td>\n",
       "      <td>7242.0</td>\n",
       "      <td>2.0</td>\n",
       "      <td>0</td>\n",
       "      <td>7</td>\n",
       "      <td>2170.0</td>\n",
       "      <td>400</td>\n",
       "      <td>...</td>\n",
       "      <td>0</td>\n",
       "      <td>0</td>\n",
       "      <td>1</td>\n",
       "      <td>0</td>\n",
       "      <td>0</td>\n",
       "      <td>0</td>\n",
       "      <td>0</td>\n",
       "      <td>0</td>\n",
       "      <td>0</td>\n",
       "      <td>0</td>\n",
       "    </tr>\n",
       "    <tr>\n",
       "      <th>2</th>\n",
       "      <td>180000.0</td>\n",
       "      <td>2</td>\n",
       "      <td>1.00</td>\n",
       "      <td>770.0</td>\n",
       "      <td>10000.0</td>\n",
       "      <td>1.0</td>\n",
       "      <td>0</td>\n",
       "      <td>6</td>\n",
       "      <td>770.0</td>\n",
       "      <td>0</td>\n",
       "      <td>...</td>\n",
       "      <td>0</td>\n",
       "      <td>0</td>\n",
       "      <td>1</td>\n",
       "      <td>0</td>\n",
       "      <td>0</td>\n",
       "      <td>0</td>\n",
       "      <td>0</td>\n",
       "      <td>0</td>\n",
       "      <td>0</td>\n",
       "      <td>0</td>\n",
       "    </tr>\n",
       "    <tr>\n",
       "      <th>3</th>\n",
       "      <td>604000.0</td>\n",
       "      <td>4</td>\n",
       "      <td>3.00</td>\n",
       "      <td>1960.0</td>\n",
       "      <td>5000.0</td>\n",
       "      <td>1.0</td>\n",
       "      <td>0</td>\n",
       "      <td>7</td>\n",
       "      <td>1050.0</td>\n",
       "      <td>910</td>\n",
       "      <td>...</td>\n",
       "      <td>0</td>\n",
       "      <td>0</td>\n",
       "      <td>0</td>\n",
       "      <td>1</td>\n",
       "      <td>0</td>\n",
       "      <td>0</td>\n",
       "      <td>0</td>\n",
       "      <td>0</td>\n",
       "      <td>0</td>\n",
       "      <td>0</td>\n",
       "    </tr>\n",
       "    <tr>\n",
       "      <th>4</th>\n",
       "      <td>510000.0</td>\n",
       "      <td>3</td>\n",
       "      <td>2.00</td>\n",
       "      <td>1680.0</td>\n",
       "      <td>8080.0</td>\n",
       "      <td>1.0</td>\n",
       "      <td>0</td>\n",
       "      <td>8</td>\n",
       "      <td>1680.0</td>\n",
       "      <td>0</td>\n",
       "      <td>...</td>\n",
       "      <td>0</td>\n",
       "      <td>0</td>\n",
       "      <td>0</td>\n",
       "      <td>0</td>\n",
       "      <td>1</td>\n",
       "      <td>0</td>\n",
       "      <td>0</td>\n",
       "      <td>0</td>\n",
       "      <td>0</td>\n",
       "      <td>0</td>\n",
       "    </tr>\n",
       "  </tbody>\n",
       "</table>\n",
       "<p>5 rows × 31 columns</p>\n",
       "</div>"
      ],
      "text/plain": [
       "   Sale_Price  No of Bedrooms  No of Bathrooms  Flat Area (in Sqft)  \\\n",
       "0    221900.0               3             1.00               1180.0   \n",
       "1    538000.0               3             2.25               2570.0   \n",
       "2    180000.0               2             1.00                770.0   \n",
       "3    604000.0               4             3.00               1960.0   \n",
       "4    510000.0               3             2.00               1680.0   \n",
       "\n",
       "   Lot Area (in Sqft)  No of Floors  No of Times Visited  Overall Grade  \\\n",
       "0              5650.0           1.0                    0              7   \n",
       "1              7242.0           2.0                    0              7   \n",
       "2             10000.0           1.0                    0              6   \n",
       "3              5000.0           1.0                    0              7   \n",
       "4              8080.0           1.0                    0              8   \n",
       "\n",
       "   Area of the House from Basement (in Sqft)  Basement Area (in Sqft)  ...  \\\n",
       "0                                     1180.0                        0  ...   \n",
       "1                                     2170.0                      400  ...   \n",
       "2                                      770.0                        0  ...   \n",
       "3                                     1050.0                      910  ...   \n",
       "4                                     1680.0                        0  ...   \n",
       "\n",
       "   Waterfront_View_Yes  Zipcode_Group_Zipcode_Group_1  \\\n",
       "0                    0                              0   \n",
       "1                    0                              0   \n",
       "2                    0                              0   \n",
       "3                    0                              0   \n",
       "4                    0                              0   \n",
       "\n",
       "   Zipcode_Group_Zipcode_Group_2  Zipcode_Group_Zipcode_Group_3  \\\n",
       "0                              0                              0   \n",
       "1                              1                              0   \n",
       "2                              1                              0   \n",
       "3                              0                              1   \n",
       "4                              0                              0   \n",
       "\n",
       "   Zipcode_Group_Zipcode_Group_4  Zipcode_Group_Zipcode_Group_5  \\\n",
       "0                              0                              0   \n",
       "1                              0                              0   \n",
       "2                              0                              0   \n",
       "3                              0                              0   \n",
       "4                              1                              0   \n",
       "\n",
       "   Zipcode_Group_Zipcode_Group_6  Zipcode_Group_Zipcode_Group_7  \\\n",
       "0                              0                              0   \n",
       "1                              0                              0   \n",
       "2                              0                              0   \n",
       "3                              0                              0   \n",
       "4                              0                              0   \n",
       "\n",
       "   Zipcode_Group_Zipcode_Group_8  Zipcode_Group_Zipcode_Group_9  \n",
       "0                              0                              0  \n",
       "1                              0                              0  \n",
       "2                              0                              0  \n",
       "3                              0                              0  \n",
       "4                              0                              0  \n",
       "\n",
       "[5 rows x 31 columns]"
      ]
     },
     "execution_count": 3,
     "metadata": {},
     "output_type": "execute_result"
    }
   ],
   "source": [
    "data = pd.read_csv('Transformed_Housing_Data2.csv')\n",
    "data.head()"
   ]
  },
  {
   "cell_type": "code",
   "execution_count": 4,
   "metadata": {
    "colab": {
     "base_uri": "https://localhost:8080/",
     "height": 119
    },
    "colab_type": "code",
    "executionInfo": {
     "elapsed": 18617,
     "status": "ok",
     "timestamp": 1568371062441,
     "user": {
      "displayName": "Sharoon Saxena",
      "photoUrl": "https://lh3.googleusercontent.com/a-/AAuE7mA06b2KEfgpAIC1tQCip2ka2KqXrCY2GfWW9Fww=s64",
      "userId": "01167841530696023488"
     },
     "user_tz": -330
    },
    "id": "DlIjYuLuv1qZ",
    "outputId": "3602e506-08df-4c89-ba68-1e0f63fd9f68"
   },
   "outputs": [
    {
     "data": {
      "text/plain": [
       "0    511618.558147\n",
       "1    511618.558147\n",
       "2    511618.558147\n",
       "3    511618.558147\n",
       "4    511618.558147\n",
       "Name: mean_sales, dtype: float64"
      ]
     },
     "execution_count": 4,
     "metadata": {},
     "output_type": "execute_result"
    }
   ],
   "source": [
    "data['mean_sales'] = data['Sale_Price'].mean()\n",
    "data['mean_sales'].head()"
   ]
  },
  {
   "cell_type": "code",
   "execution_count": 5,
   "metadata": {
    "colab": {
     "base_uri": "https://localhost:8080/",
     "height": 34
    },
    "colab_type": "code",
    "executionInfo": {
     "elapsed": 18035,
     "status": "ok",
     "timestamp": 1568371062441,
     "user": {
      "displayName": "Sharoon Saxena",
      "photoUrl": "https://lh3.googleusercontent.com/a-/AAuE7mA06b2KEfgpAIC1tQCip2ka2KqXrCY2GfWW9Fww=s64",
      "userId": "01167841530696023488"
     },
     "user_tz": -330
    },
    "id": "5gy5zzzzKoIF",
    "outputId": "6963903a-adbc-43c5-fe00-286042ef852e"
   },
   "outputs": [
    {
     "data": {
      "text/plain": [
       "array([ 7,  6,  8, 10,  9,  5,  4,  3,  2,  1], dtype=int64)"
      ]
     },
     "execution_count": 5,
     "metadata": {},
     "output_type": "execute_result"
    }
   ],
   "source": [
    "data[\"Overall Grade\"].unique()"
   ]
  },
  {
   "cell_type": "code",
   "execution_count": 6,
   "metadata": {
    "colab": {},
    "colab_type": "code",
    "id": "ar7QjF-TJJdF"
   },
   "outputs": [],
   "source": [
    "gradewise_list = []\n",
    "for i in range(1,11):\n",
    "  k = data[\"Sale_Price\"][data[\"Overall Grade\"] == i]\n",
    "  gradewise_list.append(k)"
   ]
  },
  {
   "cell_type": "code",
   "execution_count": 7,
   "metadata": {
    "colab": {
     "base_uri": "https://localhost:8080/",
     "height": 952
    },
    "colab_type": "code",
    "executionInfo": {
     "elapsed": 13681,
     "status": "ok",
     "timestamp": 1568371062443,
     "user": {
      "displayName": "Sharoon Saxena",
      "photoUrl": "https://lh3.googleusercontent.com/a-/AAuE7mA06b2KEfgpAIC1tQCip2ka2KqXrCY2GfWW9Fww=s64",
      "userId": "01167841530696023488"
     },
     "user_tz": -330
    },
    "id": "05wgYLk8HzhU",
    "outputId": "fa28a41f-7bb4-4656-d2a3-e15bd2c05ab3"
   },
   "outputs": [
    {
     "data": {
      "text/plain": [
       "<matplotlib.legend.Legend at 0x1f6f2e8a2d0>"
      ]
     },
     "execution_count": 7,
     "metadata": {},
     "output_type": "execute_result"
    },
    {
     "data": {
      "image/png": "[encoded data removed]",
      "text/plain": [
       "<Figure size 1800x1080 with 1 Axes>"
      ]
     },
     "metadata": {},
     "output_type": "display_data"
    }
   ],
   "source": [
    "plt.figure( dpi = 120, figsize = (15,9) )\n",
    "\n",
    "#### Plotting \"Sale_Price\" gradewise ####\n",
    "# z variable is for x-axis\n",
    "z = 0\n",
    "for i in range(1,11):\n",
    "  # defining x-axis using z\n",
    "  points = [k for k in range(z, z + len(gradewise_list[i-1]))]\n",
    "  # plotting\n",
    "  plt.scatter( points, # x-axis\n",
    "              np.sort(gradewise_list[i-1], axis = 0) , # y-axis\n",
    "              label = ('houses with overall grade', i), s = 4 )            \n",
    "  z = max(points) + 1 # updating z for next plot\n",
    "\n",
    "#### plotting Overall Mean ####\n",
    "plt.scatter([q for q in range(0, z)],\n",
    "         data['mean_sales'],\n",
    "         color = 'red',\n",
    "         label = 'Overall Mean',\n",
    "         s = 8)\n",
    "\n",
    "plt.xlabel('Fitted points (Ascending)')\n",
    "plt.ylabel(\"Sale Price\")\n",
    "plt.title('Overall Mean')\n",
    "plt.legend( loc = 4)"
   ]
  },
  {
   "cell_type": "code",
   "execution_count": 8,
   "metadata": {
    "colab": {
     "base_uri": "https://localhost:8080/",
     "height": 80
    },
    "colab_type": "code",
    "executionInfo": {
     "elapsed": 15576,
     "status": "ok",
     "timestamp": 1568371066334,
     "user": {
      "displayName": "Sharoon Saxena",
      "photoUrl": "https://lh3.googleusercontent.com/a-/AAuE7mA06b2KEfgpAIC1tQCip2ka2KqXrCY2GfWW9Fww=s64",
      "userId": "01167841530696023488"
     },
     "user_tz": -330
    },
    "id": "mAr6w04Jx0aD",
    "outputId": "8a68d41f-d344-404d-af64-9444bccab427"
   },
   "outputs": [
    {
     "data": {
      "text/html": [
       "<div>\n",
       "<style scoped>\n",
       "    .dataframe tbody tr th:only-of-type {\n",
       "        vertical-align: middle;\n",
       "    }\n",
       "\n",
       "    .dataframe tbody tr th {\n",
       "        vertical-align: top;\n",
       "    }\n",
       "\n",
       "    .dataframe thead th {\n",
       "        text-align: right;\n",
       "    }\n",
       "</style>\n",
       "<table border=\"1\" class=\"dataframe\">\n",
       "  <thead>\n",
       "    <tr style=\"text-align: right;\">\n",
       "      <th>Overall Grade</th>\n",
       "      <th>1</th>\n",
       "      <th>2</th>\n",
       "      <th>3</th>\n",
       "      <th>4</th>\n",
       "      <th>5</th>\n",
       "      <th>6</th>\n",
       "      <th>7</th>\n",
       "      <th>8</th>\n",
       "      <th>9</th>\n",
       "      <th>10</th>\n",
       "    </tr>\n",
       "  </thead>\n",
       "  <tbody>\n",
       "    <tr>\n",
       "      <th>Sale_Price</th>\n",
       "      <td>142000.0</td>\n",
       "      <td>1129575.0</td>\n",
       "      <td>205666.666667</td>\n",
       "      <td>214381.034483</td>\n",
       "      <td>248523.971074</td>\n",
       "      <td>301882.01472</td>\n",
       "      <td>402239.619779</td>\n",
       "      <td>537584.082097</td>\n",
       "      <td>736936.769025</td>\n",
       "      <td>960408.078866</td>\n",
       "    </tr>\n",
       "  </tbody>\n",
       "</table>\n",
       "</div>"
      ],
      "text/plain": [
       "Overall Grade        1          2              3              4   \\\n",
       "Sale_Price     142000.0  1129575.0  205666.666667  214381.034483   \n",
       "\n",
       "Overall Grade             5             6              7              8   \\\n",
       "Sale_Price     248523.971074  301882.01472  402239.619779  537584.082097   \n",
       "\n",
       "Overall Grade             9              10  \n",
       "Sale_Price     736936.769025  960408.078866  "
      ]
     },
     "execution_count": 8,
     "metadata": {},
     "output_type": "execute_result"
    }
   ],
   "source": [
    "grades_mean = data.pivot_table(values = 'Sale_Price' , columns = 'Overall Grade', aggfunc = np.mean)\n",
    "grades_mean"
   ]
  },
  {
   "cell_type": "code",
   "execution_count": 9,
   "metadata": {
    "colab": {
     "base_uri": "https://localhost:8080/",
     "height": 119
    },
    "colab_type": "code",
    "executionInfo": {
     "elapsed": 14453,
     "status": "ok",
     "timestamp": 1568371066335,
     "user": {
      "displayName": "Sharoon Saxena",
      "photoUrl": "https://lh3.googleusercontent.com/a-/AAuE7mA06b2KEfgpAIC1tQCip2ka2KqXrCY2GfWW9Fww=s64",
      "userId": "01167841530696023488"
     },
     "user_tz": -330
    },
    "id": "Q2RgYYBAwfnb",
    "outputId": "879acd57-6c10-4419-883d-ee703493d591"
   },
   "outputs": [
    {
     "data": {
      "text/plain": [
       "0    402239.619779\n",
       "1    402239.619779\n",
       "2    301882.014720\n",
       "3    402239.619779\n",
       "4    537584.082097\n",
       "Name: grade_mean, dtype: float64"
      ]
     },
     "execution_count": 9,
     "metadata": {},
     "output_type": "execute_result"
    }
   ],
   "source": [
    "# making new column\n",
    "data['grade_mean'] = 0\n",
    "\n",
    "# for every grade fill its mean price in new column\n",
    "for i in grades_mean.columns:\n",
    "  data['grade_mean'][data['Overall Grade'] == i] = grades_mean[i][0]\n",
    "  \n",
    "data['grade_mean'].head()"
   ]
  },
  {
   "cell_type": "code",
   "execution_count": 10,
   "metadata": {
    "colab": {
     "base_uri": "https://localhost:8080/",
     "height": 249
    },
    "colab_type": "code",
    "executionInfo": {
     "elapsed": 1168,
     "status": "error",
     "timestamp": 1568370979280,
     "user": {
      "displayName": "Sharoon Saxena",
      "photoUrl": "https://lh3.googleusercontent.com/a-/AAuE7mA06b2KEfgpAIC1tQCip2ka2KqXrCY2GfWW9Fww=s64",
      "userId": "01167841530696023488"
     },
     "user_tz": -330
    },
    "id": "IgPazpmjHzek",
    "outputId": "c9a97a31-c8dc-4df1-9038-ff8faab91338"
   },
   "outputs": [
    {
     "ename": "NameError",
     "evalue": "name 'classwise_list' is not defined",
     "output_type": "error",
     "traceback": [
      "\u001b[1;31m---------------------------------------------------------------------------\u001b[0m",
      "\u001b[1;31mNameError\u001b[0m                                 Traceback (most recent call last)",
      "Cell \u001b[1;32mIn[10], line 15\u001b[0m\n\u001b[0;32m     10\u001b[0m   plt\u001b[38;5;241m.\u001b[39mscatter( points,\n\u001b[0;32m     11\u001b[0m               gradewise_list[i\u001b[38;5;241m-\u001b[39m\u001b[38;5;241m1\u001b[39m]\u001b[38;5;241m.\u001b[39msort_values(),\n\u001b[0;32m     12\u001b[0m               label \u001b[38;5;241m=\u001b[39m (\u001b[38;5;124m'\u001b[39m\u001b[38;5;124mhouses with overall grade\u001b[39m\u001b[38;5;124m'\u001b[39m, i), s \u001b[38;5;241m=\u001b[39m \u001b[38;5;241m4\u001b[39m )\n\u001b[0;32m     13\u001b[0m   \u001b[38;5;66;03m# Plotting gradewise mean\u001b[39;00m\n\u001b[0;32m     14\u001b[0m   plt\u001b[38;5;241m.\u001b[39mscatter( points,\n\u001b[1;32m---> 15\u001b[0m               [classwise_list[i\u001b[38;5;241m-\u001b[39m\u001b[38;5;241m1\u001b[39m]\u001b[38;5;241m.\u001b[39mmean() \u001b[38;5;28;01mfor\u001b[39;00m q \u001b[38;5;129;01min\u001b[39;00m \u001b[38;5;28mrange\u001b[39m(\u001b[38;5;28mlen\u001b[39m(classwise_list[i\u001b[38;5;241m-\u001b[39m\u001b[38;5;241m1\u001b[39m]))],\n\u001b[0;32m     16\u001b[0m               s \u001b[38;5;241m=\u001b[39m \u001b[38;5;241m6\u001b[39m, color \u001b[38;5;241m=\u001b[39m \u001b[38;5;124m'\u001b[39m\u001b[38;5;124mpink\u001b[39m\u001b[38;5;124m'\u001b[39m\n\u001b[0;32m     17\u001b[0m               )          \n\u001b[0;32m     18\u001b[0m   z \u001b[38;5;241m=\u001b[39m \u001b[38;5;28mmax\u001b[39m(points) \u001b[38;5;241m+\u001b[39m \u001b[38;5;241m1\u001b[39m\n\u001b[0;32m     20\u001b[0m \u001b[38;5;66;03m#### plotting Overall Mean ####\u001b[39;00m\n",
      "\u001b[1;31mNameError\u001b[0m: name 'classwise_list' is not defined"
     ]
    },
    {
     "data": {
      "image/png": "[encoded data removed]",
      "text/plain": [
       "<Figure size 1800x1080 with 1 Axes>"
      ]
     },
     "metadata": {},
     "output_type": "display_data"
    }
   ],
   "source": [
    "plt.figure( dpi = 120, figsize = (15,9) )\n",
    "\n",
    "#### Plotting \"Sale_Price\" gradewise ####\n",
    "# z variable is for x-axis\n",
    "z = 0\n",
    "for i in range(1,11):\n",
    "  # defining x-axis using z\n",
    "  points = [k for k in range(z, z + len(gradewise_list[i-1]))]\n",
    "  # Plotting\n",
    "  plt.scatter( points,\n",
    "              gradewise_list[i-1].sort_values(),\n",
    "              label = ('houses with overall grade', i), s = 4 )\n",
    "  # Plotting gradewise mean\n",
    "  plt.scatter( points,\n",
    "              [classwise_list[i-1].mean() for q in range(len(classwise_list[i-1]))],\n",
    "              s = 6, color = 'pink'\n",
    "              )          \n",
    "  z = max(points) + 1\n",
    "\n",
    "#### plotting Overall Mean ####\n",
    "plt.scatter([q for q in range(0, z)],\n",
    "         data['mean_sales'],\n",
    "         color = 'red',\n",
    "         label = 'Overall Mean',\n",
    "         s = 6)\n",
    "\n",
    "plt.xlabel('Fitted points (Ascending)')\n",
    "plt.ylabel(\"Sale Price\")\n",
    "plt.title('Overall Mean')\n",
    "plt.legend(loc = 4)"
   ]
  },
  {
   "cell_type": "code",
   "execution_count": null,
   "metadata": {
    "colab": {},
    "colab_type": "code",
    "id": "jrtHbqPBcVDH"
   },
   "outputs": [],
   "source": [
    "mean_difference = data['mean_sales'] - data['Sale_Price']\n",
    "grade_mean_difference = data['grade_mean'] - data['Sale_Price']"
   ]
  },
  {
   "cell_type": "code",
   "execution_count": null,
   "metadata": {
    "colab": {
     "base_uri": "https://localhost:8080/",
     "height": 572
    },
    "colab_type": "code",
    "executionInfo": {
     "elapsed": 8563,
     "status": "ok",
     "timestamp": 1565953699079,
     "user": {
      "displayName": "Sharoon Saxena",
      "photoUrl": "https://lh4.googleusercontent.com/-W95leUNeoGw/AAAAAAAAAAI/AAAAAAAAAAc/QLpf_DOcwj4/s64/photo.jpg",
      "userId": "01167841530696023488"
     },
     "user_tz": -330
    },
    "id": "zZkZcyi2c2m7",
    "outputId": "e438ef01-4fef-4f91-b7ba-cf169b1a8318"
   },
   "outputs": [],
   "source": [
    "k = range(0, len(data))\n",
    "l = [0 for i in range(len(data))]\n",
    "\n",
    "plt.figure( figsize = (15,6), dpi =100)\n",
    "\n",
    "plt.subplot(1,2,1)\n",
    "plt.scatter( k , mean_difference, color = 'red', label = 'Residuals', s = 2 )\n",
    "plt.plot( k , l, color = 'green', label = 'mean Regression', linewidth = 3)\n",
    "plt.xlabel('Fitted points')\n",
    "plt.ylabel(\"Residuals\")\n",
    "plt.title('Residuals with respect to Overall Mean')\n",
    "\n",
    "plt.subplot(1,2,2)\n",
    "plt.scatter( k , grade_mean_difference, color = 'red', label = 'Residuals', s = 2 )\n",
    "plt.plot( k , l, color = 'green', label = 'mean Regression', linewidth = 3)\n",
    "plt.xlabel('Fitted points')\n",
    "plt.ylabel(\"Residuals\")\n",
    "plt.legend()\n",
    "plt.title(\"Residuals with respect to Overall Housing Grade\")\n",
    "\n",
    "plt.legend()"
   ]
  },
  {
   "cell_type": "code",
   "execution_count": null,
   "metadata": {
    "colab": {
     "base_uri": "https://localhost:8080/",
     "height": 34
    },
    "colab_type": "code",
    "executionInfo": {
     "elapsed": 4008,
     "status": "ok",
     "timestamp": 1568371292598,
     "user": {
      "displayName": "Sharoon Saxena",
      "photoUrl": "https://lh3.googleusercontent.com/a-/AAuE7mA06b2KEfgpAIC1tQCip2ka2KqXrCY2GfWW9Fww=s64",
      "userId": "01167841530696023488"
     },
     "user_tz": -330
    },
    "id": "omirCvEmGY2c",
    "outputId": "47e23039-d933-44aa-a021-28f9be25650c"
   },
   "outputs": [],
   "source": [
    "mean_error = sum(mean_difference)/len(data)\n",
    "print(round(mean_error, 7))"
   ]
  },
  {
   "cell_type": "code",
   "execution_count": null,
   "metadata": {
    "colab": {
     "base_uri": "https://localhost:8080/",
     "height": 34
    },
    "colab_type": "code",
    "executionInfo": {
     "elapsed": 3684,
     "status": "ok",
     "timestamp": 1568371292599,
     "user": {
      "displayName": "Sharoon Saxena",
      "photoUrl": "https://lh3.googleusercontent.com/a-/AAuE7mA06b2KEfgpAIC1tQCip2ka2KqXrCY2GfWW9Fww=s64",
      "userId": "01167841530696023488"
     },
     "user_tz": -330
    },
    "id": "EmKq1GlTWpEz",
    "outputId": "0b9aa12b-a1bd-499f-92be-192f078ed437"
   },
   "outputs": [],
   "source": [
    "Y = data[\"Sale_Price\"]\n",
    "Y_hat1 = data[\"mean_sales\"]\n",
    "Y_hat2 = data['grade_mean']\n",
    "n = len(data)\n",
    "\n",
    "len(Y), len(Y_hat1), len(Y_hat2), n"
   ]
  },
  {
   "cell_type": "code",
   "execution_count": null,
   "metadata": {
    "colab": {
     "base_uri": "https://localhost:8080/",
     "height": 34
    },
    "colab_type": "code",
    "executionInfo": {
     "elapsed": 3913,
     "status": "ok",
     "timestamp": 1568371357604,
     "user": {
      "displayName": "Sharoon Saxena",
      "photoUrl": "https://lh3.googleusercontent.com/a-/AAuE7mA06b2KEfgpAIC1tQCip2ka2KqXrCY2GfWW9Fww=s64",
      "userId": "01167841530696023488"
     },
     "user_tz": -330
    },
    "id": "vwY6rBOBXVUN",
    "outputId": "ebf92ce5-ba80-4676-d693-1c547e8919d5"
   },
   "outputs": [],
   "source": [
    "mean_absolute_error1 = sum(abs(Y_hat1 - Y))/n\n",
    "mean_absolute_error1"
   ]
  },
  {
   "cell_type": "code",
   "execution_count": null,
   "metadata": {
    "colab": {
     "base_uri": "https://localhost:8080/",
     "height": 34
    },
    "colab_type": "code",
    "executionInfo": {
     "elapsed": 3623,
     "status": "ok",
     "timestamp": 1568371357605,
     "user": {
      "displayName": "Sharoon Saxena",
      "photoUrl": "https://lh3.googleusercontent.com/a-/AAuE7mA06b2KEfgpAIC1tQCip2ka2KqXrCY2GfWW9Fww=s64",
      "userId": "01167841530696023488"
     },
     "user_tz": -330
    },
    "id": "rYEWk6F_Xt9T",
    "outputId": "58b6a315-2379-4062-ddcc-0cddf7636f96"
   },
   "outputs": [],
   "source": [
    "mean_absolute_error2 = sum(abs(Y_hat2 - Y))/n\n",
    "mean_absolute_error2"
   ]
  },
  {
   "cell_type": "code",
   "execution_count": null,
   "metadata": {
    "colab": {
     "base_uri": "https://localhost:8080/",
     "height": 34
    },
    "colab_type": "code",
    "executionInfo": {
     "elapsed": 1127,
     "status": "ok",
     "timestamp": 1568371545604,
     "user": {
      "displayName": "Sharoon Saxena",
      "photoUrl": "https://lh3.googleusercontent.com/a-/AAuE7mA06b2KEfgpAIC1tQCip2ka2KqXrCY2GfWW9Fww=s64",
      "userId": "01167841530696023488"
     },
     "user_tz": -330
    },
    "id": "C2kAIgwpZluW",
    "outputId": "3e9b0ddf-4ff7-41e4-c933-fff296785bff"
   },
   "outputs": [],
   "source": [
    "from sklearn.metrics import mean_absolute_error\n",
    "mean_absolute_error_2 = mean_absolute_error(Y_hat2, Y)\n",
    "mean_absolute_error_2"
   ]
  },
  {
   "cell_type": "code",
   "execution_count": null,
   "metadata": {
    "colab": {
     "base_uri": "https://localhost:8080/",
     "height": 34
    },
    "colab_type": "code",
    "executionInfo": {
     "elapsed": 765,
     "status": "ok",
     "timestamp": 1565953367568,
     "user": {
      "displayName": "Sharoon Saxena",
      "photoUrl": "https://lh4.googleusercontent.com/-W95leUNeoGw/AAAAAAAAAAI/AAAAAAAAAAc/QLpf_DOcwj4/s64/photo.jpg",
      "userId": "01167841530696023488"
     },
     "user_tz": -330
    },
    "id": "gYrvndX9hp6c",
    "outputId": "93b8bcd5-b198-4fdd-ae62-d00c69092fc3"
   },
   "outputs": [],
   "source": [
    "from sklearn.metrics import mean_squared_error\n",
    "mse1 = mean_squared_error( Y_hat1, Y)\n",
    "mse2 = mean_squared_error(Y_hat2, Y)\n",
    "mse1, mse2"
   ]
  },
  {
   "cell_type": "code",
   "execution_count": null,
   "metadata": {
    "colab": {
     "base_uri": "https://localhost:8080/",
     "height": 34
    },
    "colab_type": "code",
    "executionInfo": {
     "elapsed": 1224,
     "status": "ok",
     "timestamp": 1568371665330,
     "user": {
      "displayName": "Sharoon Saxena",
      "photoUrl": "https://lh3.googleusercontent.com/a-/AAuE7mA06b2KEfgpAIC1tQCip2ka2KqXrCY2GfWW9Fww=s64",
      "userId": "01167841530696023488"
     },
     "user_tz": -330
    },
    "id": "_4OWpv2pmxZh",
    "outputId": "f103a37f-c3f1-4a54-d5c3-979b728dd0ea"
   },
   "outputs": [],
   "source": [
    "from sklearn.metrics import mean_squared_error\n",
    "rmse1 = mean_squared_error( Y_hat1, Y)**0.5\n",
    "rmse2 = mean_squared_error(Y_hat2, Y)**0.5\n",
    "rmse1, rmse2"
   ]
  },
  {
   "cell_type": "code",
   "execution_count": 11,
   "metadata": {
    "colab": {
     "base_uri": "https://localhost:8080/",
     "height": 34
    },
    "colab_type": "code",
    "executionInfo": {
     "elapsed": 762,
     "status": "ok",
     "timestamp": 1565953368120,
     "user": {
      "displayName": "Sharoon Saxena",
      "photoUrl": "https://lh4.googleusercontent.com/-W95leUNeoGw/AAAAAAAAAAI/AAAAAAAAAAc/QLpf_DOcwj4/s64/photo.jpg",
      "userId": "01167841530696023488"
     },
     "user_tz": -330
    },
    "id": "HVctxXLKvBcr",
    "outputId": "0b0a2d26-8f92-4c70-abc1-1601581c47ef"
   },
   "outputs": [
    {
     "data": {
      "text/plain": [
       "(21609, 21609, 21609, 21609)"
      ]
     },
     "execution_count": 11,
     "metadata": {},
     "output_type": "execute_result"
    }
   ],
   "source": [
    "Y = data[\"Sale_Price\"]\n",
    "Y_bar = data[\"mean_sales\"]\n",
    "Y_hat = data['grade_mean']\n",
    "n = len(data)\n",
    "\n",
    "len(Y), len(Y_bar), len(Y_hat), n"
   ]
  },
  {
   "cell_type": "code",
   "execution_count": 12,
   "metadata": {
    "colab": {
     "base_uri": "https://localhost:8080/",
     "height": 34
    },
    "colab_type": "code",
    "executionInfo": {
     "elapsed": 752,
     "status": "ok",
     "timestamp": 1565953368607,
     "user": {
      "displayName": "Sharoon Saxena",
      "photoUrl": "https://lh4.googleusercontent.com/-W95leUNeoGw/AAAAAAAAAAI/AAAAAAAAAAc/QLpf_DOcwj4/s64/photo.jpg",
      "userId": "01167841530696023488"
     },
     "user_tz": -330
    },
    "id": "Va9iW0ggCRfj",
    "outputId": "90e869b0-1258-48a7-f8e9-76b740aeb2d7"
   },
   "outputs": [
    {
     "ename": "NameError",
     "evalue": "name 'mean_squared_error' is not defined",
     "output_type": "error",
     "traceback": [
      "\u001b[1;31m---------------------------------------------------------------------------\u001b[0m",
      "\u001b[1;31mNameError\u001b[0m                                 Traceback (most recent call last)",
      "Cell \u001b[1;32mIn[12], line 1\u001b[0m\n\u001b[1;32m----> 1\u001b[0m mse_mean \u001b[38;5;241m=\u001b[39m mean_squared_error( Y_bar, Y)\n\u001b[0;32m      2\u001b[0m mse_mean\n",
      "\u001b[1;31mNameError\u001b[0m: name 'mean_squared_error' is not defined"
     ]
    }
   ],
   "source": [
    "mse_mean = mean_squared_error( Y_bar, Y)\n",
    "mse_mean"
   ]
  },
  {
   "cell_type": "code",
   "execution_count": 13,
   "metadata": {
    "colab": {
     "base_uri": "https://localhost:8080/",
     "height": 34
    },
    "colab_type": "code",
    "executionInfo": {
     "elapsed": 1350,
     "status": "ok",
     "timestamp": 1565953369847,
     "user": {
      "displayName": "Sharoon Saxena",
      "photoUrl": "https://lh4.googleusercontent.com/-W95leUNeoGw/AAAAAAAAAAI/AAAAAAAAAAc/QLpf_DOcwj4/s64/photo.jpg",
      "userId": "01167841530696023488"
     },
     "user_tz": -330
    },
    "id": "-C0IvQ4DCi2B",
    "outputId": "02e1006d-52b4-4fc0-f6a3-b4d04f7f3cf3"
   },
   "outputs": [
    {
     "ename": "NameError",
     "evalue": "name 'mean_squared_error' is not defined",
     "output_type": "error",
     "traceback": [
      "\u001b[1;31m---------------------------------------------------------------------------\u001b[0m",
      "\u001b[1;31mNameError\u001b[0m                                 Traceback (most recent call last)",
      "Cell \u001b[1;32mIn[13], line 1\u001b[0m\n\u001b[1;32m----> 1\u001b[0m mse_model \u001b[38;5;241m=\u001b[39m mean_squared_error( Y_hat, Y)\n\u001b[0;32m      2\u001b[0m mse_model\n",
      "\u001b[1;31mNameError\u001b[0m: name 'mean_squared_error' is not defined"
     ]
    }
   ],
   "source": [
    "mse_model = mean_squared_error( Y_hat, Y)\n",
    "mse_model"
   ]
  },
  {
   "cell_type": "code",
   "execution_count": 14,
   "metadata": {
    "colab": {
     "base_uri": "https://localhost:8080/",
     "height": 34
    },
    "colab_type": "code",
    "executionInfo": {
     "elapsed": 733,
     "status": "ok",
     "timestamp": 1565953369848,
     "user": {
      "displayName": "Sharoon Saxena",
      "photoUrl": "https://lh4.googleusercontent.com/-W95leUNeoGw/AAAAAAAAAAI/AAAAAAAAAAc/QLpf_DOcwj4/s64/photo.jpg",
      "userId": "01167841530696023488"
     },
     "user_tz": -330
    },
    "id": "TcdnUaudC4Rn",
    "outputId": "8e28f74a-0997-47ea-9699-aa5ce3972f82"
   },
   "outputs": [
    {
     "ename": "NameError",
     "evalue": "name 'mse_model' is not defined",
     "output_type": "error",
     "traceback": [
      "\u001b[1;31m---------------------------------------------------------------------------\u001b[0m",
      "\u001b[1;31mNameError\u001b[0m                                 Traceback (most recent call last)",
      "Cell \u001b[1;32mIn[14], line 1\u001b[0m\n\u001b[1;32m----> 1\u001b[0m R2 \u001b[38;5;241m=\u001b[39m \u001b[38;5;241m1\u001b[39m \u001b[38;5;241m-\u001b[39m (mse_model \u001b[38;5;241m/\u001b[39m mse_mean)\n\u001b[0;32m      2\u001b[0m R2\n",
      "\u001b[1;31mNameError\u001b[0m: name 'mse_model' is not defined"
     ]
    }
   ],
   "source": [
    "R2 = 1 - (mse_model / mse_mean)\n",
    "R2"
   ]
  },
  {
   "cell_type": "code",
   "execution_count": 15,
   "metadata": {
    "colab": {
     "base_uri": "https://localhost:8080/",
     "height": 34
    },
    "colab_type": "code",
    "executionInfo": {
     "elapsed": 1571,
     "status": "ok",
     "timestamp": 1565953370996,
     "user": {
      "displayName": "Sharoon Saxena",
      "photoUrl": "https://lh4.googleusercontent.com/-W95leUNeoGw/AAAAAAAAAAI/AAAAAAAAAAc/QLpf_DOcwj4/s64/photo.jpg",
      "userId": "01167841530696023488"
     },
     "user_tz": -330
    },
    "id": "pLAxs1KrDAdE",
    "outputId": "1d124e51-8c81-4075-8a43-f6603af74d2e"
   },
   "outputs": [
    {
     "data": {
      "text/plain": [
       "0.5073442592981836"
      ]
     },
     "execution_count": 15,
     "metadata": {},
     "output_type": "execute_result"
    }
   ],
   "source": [
    "from sklearn.metrics import r2_score\n",
    "score = r2_score(Y, Y_hat)\n",
    "score"
   ]
  },
  {
   "cell_type": "code",
   "execution_count": 16,
   "metadata": {
    "colab": {},
    "colab_type": "code",
    "id": "qOd5hN9xcvUG"
   },
   "outputs": [
    {
     "data": {
      "text/html": [
       "<div>\n",
       "<style scoped>\n",
       "    .dataframe tbody tr th:only-of-type {\n",
       "        vertical-align: middle;\n",
       "    }\n",
       "\n",
       "    .dataframe tbody tr th {\n",
       "        vertical-align: top;\n",
       "    }\n",
       "\n",
       "    .dataframe thead tr th {\n",
       "        text-align: left;\n",
       "    }\n",
       "\n",
       "    .dataframe thead tr:last-of-type th {\n",
       "        text-align: right;\n",
       "    }\n",
       "</style>\n",
       "<table border=\"1\" class=\"dataframe\">\n",
       "  <thead>\n",
       "    <tr>\n",
       "      <th></th>\n",
       "      <th colspan=\"3\" halign=\"left\">Y</th>\n",
       "    </tr>\n",
       "    <tr>\n",
       "      <th></th>\n",
       "      <th>sum</th>\n",
       "      <th>mean</th>\n",
       "      <th>std</th>\n",
       "    </tr>\n",
       "    <tr>\n",
       "      <th>X</th>\n",
       "      <th></th>\n",
       "      <th></th>\n",
       "      <th></th>\n",
       "    </tr>\n",
       "  </thead>\n",
       "  <tbody>\n",
       "    <tr>\n",
       "      <th>A</th>\n",
       "      <td>7</td>\n",
       "      <td>3.5</td>\n",
       "      <td>0.707107</td>\n",
       "    </tr>\n",
       "    <tr>\n",
       "      <th>B</th>\n",
       "      <td>3</td>\n",
       "      <td>1.5</td>\n",
       "      <td>0.707107</td>\n",
       "    </tr>\n",
       "  </tbody>\n",
       "</table>\n",
       "</div>"
      ],
      "text/plain": [
       "    Y               \n",
       "  sum mean       std\n",
       "X                   \n",
       "A   7  3.5  0.707107\n",
       "B   3  1.5  0.707107"
      ]
     },
     "execution_count": 16,
     "metadata": {},
     "output_type": "execute_result"
    }
   ],
   "source": [
    "df2 = pd.DataFrame({'X': ['B', 'B', 'A','A'], \n",
    "                    'Y': [1, 2, 3, 4]})\n",
    "df2.groupby(['X']).agg([np.sum,np.mean,np.std])"
   ]
  },
  {
   "cell_type": "code",
   "execution_count": 25,
   "metadata": {},
   "outputs": [],
   "source": [
    "a= [1,2,3,4]\n",
    "b=[5,6,7,8]\n",
    "a.extend(b)"
   ]
  },
  {
   "cell_type": "code",
   "execution_count": 26,
   "metadata": {},
   "outputs": [
    {
     "data": {
      "text/plain": [
       "[1, 2, 3, 4, 5, 6, 7, 8]"
      ]
     },
     "execution_count": 26,
     "metadata": {},
     "output_type": "execute_result"
    }
   ],
   "source": [
    "a"
   ]
  },
  {
   "cell_type": "code",
   "execution_count": 21,
   "metadata": {},
   "outputs": [],
   "source": [
    "c=b.extend(a)"
   ]
  },
  {
   "cell_type": "code",
   "execution_count": 24,
   "metadata": {},
   "outputs": [
    {
     "name": "stdout",
     "output_type": "stream",
     "text": [
      "None\n"
     ]
    }
   ],
   "source": [
    "print(c)"
   ]
  },
  {
   "cell_type": "code",
   "execution_count": 23,
   "metadata": {},
   "outputs": [
    {
     "data": {
      "text/plain": [
       "[5, 6, 7, 8, 1, 2, 3, 4, [...], 1, 2, 3, 4, [...]]"
      ]
     },
     "execution_count": 23,
     "metadata": {},
     "output_type": "execute_result"
    }
   ],
   "source": [
    "b"
   ]
  },
  {
   "cell_type": "code",
   "execution_count": null,
   "metadata": {},
   "outputs": [],
   "source": []
  },
  {
   "cell_type": "code",
   "execution_count": null,
   "metadata": {},
   "outputs": [],
   "source": []
  }
 ],
 "metadata": {
  "colab": {
   "collapsed_sections": [],
   "name": "M5T1 .ipynb",
   "provenance": [],
   "version": "0.3.2"
  },
  "kernelspec": {
   "display_name": "Python 3 (ipykernel)",
   "language": "python",
   "name": "python3"
  },
  "language_info": {
   "codemirror_mode": {
    "name": "ipython",
    "version": 3
   },
   "file_extension": ".py",
   "mimetype": "text/x-python",
   "name": "python",
   "nbconvert_exporter": "python",
   "pygments_lexer": "ipython3",
   "version": "3.11.5"
  }
 },
 "nbformat": 4,
 "nbformat_minor": 1
}
